{
 "cells": [
  {
   "cell_type": "code",
   "execution_count": 1,
   "metadata": {},
   "outputs": [],
   "source": [
    "%matplotlib inline\n",
    "import pandas as pd\n",
    "import numpy as np\n",
    "import matplotlib\n",
    "import matplotlib.pyplot as plt\n",
    "import seaborn as sns"
   ]
  },
  {
   "cell_type": "code",
   "execution_count": 26,
   "metadata": {},
   "outputs": [],
   "source": [
    "import glob\n",
    "import os"
   ]
  },
  {
   "cell_type": "code",
   "execution_count": 86,
   "metadata": {},
   "outputs": [],
   "source": [
    "def getIndices():\n",
    "    prefix = \"/mnt/scratch2/puff_benchmark_ismb/out/benchmarks\"\n",
    "    ref_type = {'genome':'k31_n_GRCh38.primary_assembly.genome.fixed',\n",
    "                'txome':'k31_n_gencode.v25.pc_transcripts_fixed'}\n",
    "    stage_type = {'index':'.','lookup':'_'}\n",
    "    tool_type = {'pufferfish_dense':'puffer.index',\n",
    "                 'pufferfish_sparse':'puffer.index.sparse',\n",
    "                 'bwa':'bwa.index',\n",
    "                 'kallisto':'kallisto.index',\n",
    "                 'pufferize':'puffer.pufferize',\n",
    "                 'twopaco':'puffer.twopaco'}\n",
    "    index_dict = {}\n",
    "    for ref in ref_type.keys():\n",
    "        df = pd.DataFrame()\n",
    "        for tool in tool_type.keys():\n",
    "            filename = os.sep.join([prefix,ref_type[ref]+'.'+tool_type[tool]+'.benchmark.txt'])\n",
    "            if os.path.isfile(filename):\n",
    "                if(len(df) == 0):\n",
    "                    df = pd.read_table(filename)\n",
    "                    df.index = [tool]\n",
    "                else:\n",
    "                    dftmp = pd.read_table(filename)\n",
    "                    dftmp.index = [tool]\n",
    "                    df = pd.concat([df,dftmp])\n",
    "        index_dict[ref] = df\n",
    "    return index_dict\n",
    "def getLookup():\n",
    "    prefix = \"/mnt/scratch2/puff_benchmark_ismb/out/benchmarks\"\n",
    "    ref_type = {'genome':'k31_n_GRCh38.primary_assembly.genome.fixed',\n",
    "                'txome':'k31_n_gencode.v25.pc_transcripts_fixed'}\n",
    "    real_read = {'genome':'SRR5833294',\n",
    "                 'txome':'SRR1215997'}\n",
    "    stage_type = {'index':'.','lookup':'_'}\n",
    "    tool_type = {'pufferfish_dense':'puffer',\n",
    "                 'pufferfish_sparse':'puffer.sparse',\n",
    "                 'bwa':'bwa',\n",
    "                 'kallisto':'kallisto'}\n",
    "    lookup_dict = {}\n",
    "    for ref in ref_type.keys():\n",
    "        df = pd.DataFrame()\n",
    "        foldername = os.sep.join([prefix,ref_type[ref]+'_vs_real_reads'])\n",
    "        if os.path.isdir(foldername):\n",
    "            for tool in tool_type.keys():\n",
    "                filename = os.sep.join([foldername,\n",
    "                                        real_read[ref]+'.'+tool_type[tool]+'.lookup.benchmark.txt'])\n",
    "                if os.path.isfile(filename):\n",
    "                    #print(\"exists\")\n",
    "                    if(len(df) == 0):\n",
    "                        df = pd.read_table(filename)\n",
    "                        df.index = [tool]\n",
    "                    else:\n",
    "                        dftmp = pd.read_table(filename)\n",
    "                        dftmp.index = [tool]\n",
    "                        df = pd.concat([df,dftmp])\n",
    "                else:\n",
    "                    print(\"does not exits\")\n",
    "                    print(filename)\n",
    "        lookup_dict[ref] = df\n",
    "    return lookup_dict"
   ]
  },
  {
   "cell_type": "code",
   "execution_count": 87,
   "metadata": {},
   "outputs": [],
   "source": [
    "lookup_res = getLookup()\n",
    "index_res = getIndices()"
   ]
  },
  {
   "cell_type": "code",
   "execution_count": 93,
   "metadata": {},
   "outputs": [
    {
     "data": {
      "text/html": [
       "<div>\n",
       "<table border=\"1\" class=\"dataframe\">\n",
       "  <thead>\n",
       "    <tr style=\"text-align: right;\">\n",
       "      <th></th>\n",
       "      <th>s</th>\n",
       "      <th>h:m:s</th>\n",
       "      <th>max_rss</th>\n",
       "      <th>max_vms</th>\n",
       "      <th>max_uss</th>\n",
       "      <th>max_pss</th>\n",
       "      <th>io_in</th>\n",
       "      <th>io_out</th>\n",
       "      <th>mean_load</th>\n",
       "    </tr>\n",
       "  </thead>\n",
       "  <tbody>\n",
       "    <tr>\n",
       "      <th>bwa</th>\n",
       "      <td>4309.9802</td>\n",
       "      <td>1:11:49</td>\n",
       "      <td>4436.58</td>\n",
       "      <td>4448.09</td>\n",
       "      <td>4434.75</td>\n",
       "      <td>4434.77</td>\n",
       "      <td>4434.64</td>\n",
       "      <td>0.09</td>\n",
       "      <td>0.00</td>\n",
       "    </tr>\n",
       "    <tr>\n",
       "      <th>kallisto</th>\n",
       "      <td>1785.6095</td>\n",
       "      <td>0:29:45</td>\n",
       "      <td>110461.12</td>\n",
       "      <td>110555.31</td>\n",
       "      <td>110457.98</td>\n",
       "      <td>110458.64</td>\n",
       "      <td>3495.44</td>\n",
       "      <td>0.14</td>\n",
       "      <td>0.00</td>\n",
       "    </tr>\n",
       "    <tr>\n",
       "      <th>pufferfish_sparse</th>\n",
       "      <td>1518.4939</td>\n",
       "      <td>0:25:18</td>\n",
       "      <td>12567.75</td>\n",
       "      <td>12927.25</td>\n",
       "      <td>12556.41</td>\n",
       "      <td>12559.72</td>\n",
       "      <td>11120.60</td>\n",
       "      <td>0.15</td>\n",
       "      <td>98.82</td>\n",
       "    </tr>\n",
       "    <tr>\n",
       "      <th>pufferfish_dense</th>\n",
       "      <td>1081.6382</td>\n",
       "      <td>0:18:01</td>\n",
       "      <td>17719.25</td>\n",
       "      <td>18078.96</td>\n",
       "      <td>17707.99</td>\n",
       "      <td>17711.28</td>\n",
       "      <td>16369.17</td>\n",
       "      <td>0.11</td>\n",
       "      <td>92.66</td>\n",
       "    </tr>\n",
       "  </tbody>\n",
       "</table>\n",
       "</div>"
      ],
      "text/plain": [
       "                           s    h:m:s    max_rss    max_vms    max_uss  \\\n",
       "bwa                4309.9802  1:11:49    4436.58    4448.09    4434.75   \n",
       "kallisto           1785.6095  0:29:45  110461.12  110555.31  110457.98   \n",
       "pufferfish_sparse  1518.4939  0:25:18   12567.75   12927.25   12556.41   \n",
       "pufferfish_dense   1081.6382  0:18:01   17719.25   18078.96   17707.99   \n",
       "\n",
       "                     max_pss     io_in  io_out  mean_load  \n",
       "bwa                  4434.77   4434.64    0.09       0.00  \n",
       "kallisto           110458.64   3495.44    0.14       0.00  \n",
       "pufferfish_sparse   12559.72  11120.60    0.15      98.82  \n",
       "pufferfish_dense    17711.28  16369.17    0.11      92.66  "
      ]
     },
     "execution_count": 93,
     "metadata": {},
     "output_type": "execute_result"
    }
   ],
   "source": [
    "lookup_res['genome']"
   ]
  },
  {
   "cell_type": "code",
   "execution_count": 94,
   "metadata": {},
   "outputs": [
    {
     "data": {
      "text/html": [
       "<div>\n",
       "<table border=\"1\" class=\"dataframe\">\n",
       "  <thead>\n",
       "    <tr style=\"text-align: right;\">\n",
       "      <th></th>\n",
       "      <th>s</th>\n",
       "      <th>h:m:s</th>\n",
       "      <th>max_rss</th>\n",
       "      <th>max_vms</th>\n",
       "      <th>max_uss</th>\n",
       "      <th>max_pss</th>\n",
       "      <th>io_in</th>\n",
       "      <th>io_out</th>\n",
       "      <th>mean_load</th>\n",
       "    </tr>\n",
       "  </thead>\n",
       "  <tbody>\n",
       "    <tr>\n",
       "      <th>bwa</th>\n",
       "      <td>2339.6490</td>\n",
       "      <td>0:38:59</td>\n",
       "      <td>305.54</td>\n",
       "      <td>317.00</td>\n",
       "      <td>303.67</td>\n",
       "      <td>303.69</td>\n",
       "      <td>0.00</td>\n",
       "      <td>0.08</td>\n",
       "      <td>0.00</td>\n",
       "    </tr>\n",
       "    <tr>\n",
       "      <th>kallisto</th>\n",
       "      <td>314.9921</td>\n",
       "      <td>0:05:14</td>\n",
       "      <td>3333.11</td>\n",
       "      <td>3427.05</td>\n",
       "      <td>3329.81</td>\n",
       "      <td>3330.51</td>\n",
       "      <td>0.00</td>\n",
       "      <td>0.03</td>\n",
       "      <td>0.00</td>\n",
       "    </tr>\n",
       "    <tr>\n",
       "      <th>pufferfish_sparse</th>\n",
       "      <td>811.1225</td>\n",
       "      <td>0:13:31</td>\n",
       "      <td>342.25</td>\n",
       "      <td>701.90</td>\n",
       "      <td>330.90</td>\n",
       "      <td>334.17</td>\n",
       "      <td>3331.55</td>\n",
       "      <td>0.09</td>\n",
       "      <td>102.60</td>\n",
       "    </tr>\n",
       "    <tr>\n",
       "      <th>pufferfish_dense</th>\n",
       "      <td>449.1932</td>\n",
       "      <td>0:07:29</td>\n",
       "      <td>455.69</td>\n",
       "      <td>815.11</td>\n",
       "      <td>444.16</td>\n",
       "      <td>447.48</td>\n",
       "      <td>0.00</td>\n",
       "      <td>0.05</td>\n",
       "      <td>102.13</td>\n",
       "    </tr>\n",
       "  </tbody>\n",
       "</table>\n",
       "</div>"
      ],
      "text/plain": [
       "                           s    h:m:s  max_rss  max_vms  max_uss  max_pss  \\\n",
       "bwa                2339.6490  0:38:59   305.54   317.00   303.67   303.69   \n",
       "kallisto            314.9921  0:05:14  3333.11  3427.05  3329.81  3330.51   \n",
       "pufferfish_sparse   811.1225  0:13:31   342.25   701.90   330.90   334.17   \n",
       "pufferfish_dense    449.1932  0:07:29   455.69   815.11   444.16   447.48   \n",
       "\n",
       "                     io_in  io_out  mean_load  \n",
       "bwa                   0.00    0.08       0.00  \n",
       "kallisto              0.00    0.03       0.00  \n",
       "pufferfish_sparse  3331.55    0.09     102.60  \n",
       "pufferfish_dense      0.00    0.05     102.13  "
      ]
     },
     "execution_count": 94,
     "metadata": {},
     "output_type": "execute_result"
    }
   ],
   "source": [
    "lookup_res['txome']"
   ]
  },
  {
   "cell_type": "code",
   "execution_count": 67,
   "metadata": {},
   "outputs": [
    {
     "data": {
      "text/plain": [
       "['/mnt/scratch2/puff_benchmark_ismb/out/benchmarks/k31_n_gencode.v25.pc_transcripts_fixed_vs_real_reads/SRR1215997.puffer.lookup.benchmark.txt',\n",
       " '/mnt/scratch2/puff_benchmark_ismb/out/benchmarks/k31_n_gencode.v25.pc_transcripts_fixed_vs_real_reads/SRR1215997.puffer.sparse.lookup.benchmark.txt',\n",
       " '/mnt/scratch2/puff_benchmark_ismb/out/benchmarks/k31_n_gencode.v25.pc_transcripts_fixed_vs_real_reads/SRR1215997.bwa.lookup.benchmark.txt',\n",
       " '/mnt/scratch2/puff_benchmark_ismb/out/benchmarks/k31_n_gencode.v25.pc_transcripts_fixed_vs_real_reads/SRR1215997.kallisto.lookup.benchmark.txt']"
      ]
     },
     "execution_count": 67,
     "metadata": {},
     "output_type": "execute_result"
    }
   ],
   "source": [
    "glob.glob(\"/mnt/scratch2/puff_benchmark_ismb/out/benchmarks/\\\n",
    "k31_n_gencode.v25.pc_transcripts_fixed_vs_real_reads/*\")"
   ]
  },
  {
   "cell_type": "code",
   "execution_count": 68,
   "metadata": {},
   "outputs": [
    {
     "data": {
      "text/plain": [
       "['/mnt/scratch2/puff_benchmark_ismb/out/benchmarks/k31_n_GRCh38.primary_assembly.genome.fixed_vs_real_reads/SRR5833294.bwa.lookup.benchmark.txt',\n",
       " '/mnt/scratch2/puff_benchmark_ismb/out/benchmarks/k31_n_GRCh38.primary_assembly.genome.fixed_vs_real_reads/SRR5833294.puffer.sparse.lookup.benchmark.txt',\n",
       " '/mnt/scratch2/puff_benchmark_ismb/out/benchmarks/k31_n_GRCh38.primary_assembly.genome.fixed_vs_real_reads/SRR5833294.puffer.lookup.benchmark.txt',\n",
       " '/mnt/scratch2/puff_benchmark_ismb/out/benchmarks/k31_n_GRCh38.primary_assembly.genome.fixed_vs_real_reads/SRR5833294.kallisto.lookup.benchmark.txt']"
      ]
     },
     "execution_count": 68,
     "metadata": {},
     "output_type": "execute_result"
    }
   ],
   "source": [
    "glob.glob(\"/mnt/scratch2/puff_benchmark_ismb/out/benchmarks/\\\n",
    "k31_n_GRCh38.primary_assembly.genome.fixed_vs_real_reads/*\")"
   ]
  },
  {
   "cell_type": "code",
   "execution_count": 137,
   "metadata": {},
   "outputs": [],
   "source": [
    "def getIndicesExt():\n",
    "    prefix = \"/mnt/scratch1/puff_benchmark_ismb/out2\"\n",
    "    \n",
    "    #ref_type = {'genome':'k31_n_GRCh38.primary_assembly.genome.fixed',\n",
    "    #            'txome':'k31_n_gencode.v25.pc_transcripts_fixed'}\n",
    "                \n",
    "    ref_type = {'txome':'k31_n_gencode.v25.pc_transcripts_fixed'}\n",
    "    stage_type = {'index':'.','lookup':'_'}\n",
    "    extensions = [4,5,6,7,8]\n",
    "    index_dict = {}\n",
    "    for ref in ref_type.keys():\n",
    "        list_ref = []\n",
    "        for e in extensions:\n",
    "            foldername = os.sep.join([prefix,ref_type[ref]+'.'+'puffer_sparse_idx_'+str(e)])\n",
    "            thisdict = {}\n",
    "            thisdict['extension'] = e\n",
    "            if os.path.isdir(foldername):\n",
    "                #print(\"exists\")\n",
    "                for dirpath, dirnames, filenames in os.walk(foldername):\n",
    "                    for f in filenames:\n",
    "                        fp = os.path.join(dirpath, f)\n",
    "                        thisdict[f] = float(os.path.getsize(fp))/(1024.0)\n",
    "            list_ref.append(thisdict)\n",
    "        \n",
    "        index_dict[ref] = pd.DataFrame(list_ref)\n",
    "    return index_dict"
   ]
  },
  {
   "cell_type": "code",
   "execution_count": 160,
   "metadata": {},
   "outputs": [],
   "source": [
    "def getIndicesTotal():\n",
    "    prefix = \"/mnt/scratch1/puff_benchmark_ismb/out2\"\n",
    "    folder_tx = \"/mnt/scratch2/puff_benchmark_ismb/out/k31_n_gencode.v25.pc_transcripts_fixed.puffer_idx\"\n",
    "    folder_gn = \"/mnt/scratch2/puff_benchmark_ismb/out/k31_n_GRCh38.primary_assembly.genome.fixed.puffer_idx\"\n",
    "    #ref_type = {'genome':'k31_n_GRCh38.primary_assembly.genome.fixed',\n",
    "    #            'txome':'k31_n_gencode.v25.pc_transcripts_fixed'}\n",
    "    sizes = {}\n",
    "    withoutExt = 0\n",
    "    if os.path.isdir(folder_tx):\n",
    "        for dirpath, dirnames, filenames in os.walk(folder_tx):\n",
    "            for f in filenames:\n",
    "                fp = os.path.join(dirpath, f)\n",
    "                withoutExt += float(os.path.getsize(fp))/(1024.0)\n",
    "    sizes['txome'] = {}\n",
    "    sizes['txome']['0'] = withoutExt\n",
    "    '''\n",
    "    withoutExt = 0\n",
    "    if os.path.isdir(folder_gn):\n",
    "        for dirpath, dirnames, filenames in os.walk(folder_gn):\n",
    "            for f in filenames:\n",
    "                fp = os.path.join(dirpath, f)\n",
    "                withoutExt += float(os.path.getsize(fp))/(1024.0)\n",
    "    sizes['genome'] = {}\n",
    "    sizes['genome']['0'] = withoutExt\n",
    "    '''\n",
    "    \n",
    "    ref_type = {'txome':'k31_n_gencode.v25.pc_transcripts_fixed'}\n",
    "    stage_type = {'index':'.','lookup':'_'}\n",
    "    extensions = [4,5,6,7,8]\n",
    "    for ref in ref_type.keys():\n",
    "        list_ref = []\n",
    "        for e in extensions:\n",
    "            foldername = os.sep.join([prefix,ref_type[ref]+'.'+'puffer_sparse_idx_'+str(e)])\n",
    "            sizes[ref][str(e)] = 0\n",
    "            if os.path.isdir(foldername):\n",
    "                #print(\"exists\")\n",
    "                for dirpath, dirnames, filenames in os.walk(foldername):\n",
    "                    for f in filenames:\n",
    "                        fp = os.path.join(dirpath, f)\n",
    "                        sizes[ref][str(e)] += float(os.path.getsize(fp))/(1024.0)       \n",
    "    return sizes"
   ]
  },
  {
   "cell_type": "code",
   "execution_count": 161,
   "metadata": {},
   "outputs": [],
   "source": [
    "sizes = getIndicesTotal()"
   ]
  },
  {
   "cell_type": "code",
   "execution_count": 163,
   "metadata": {},
   "outputs": [
    {
     "data": {
      "text/plain": [
       "{'0': 397041.548828125,\n",
       " '4': 278127.22265625,\n",
       " '5': 292734.3720703125,\n",
       " '6': 308812.2392578125,\n",
       " '7': 325698.4423828125,\n",
       " '8': 352257.9580078125}"
      ]
     },
     "execution_count": 163,
     "metadata": {},
     "output_type": "execute_result"
    }
   ],
   "source": [
    "sizes['txome']"
   ]
  },
  {
   "cell_type": "code",
   "execution_count": 139,
   "metadata": {},
   "outputs": [
    {
     "data": {
      "text/html": [
       "<div>\n",
       "<table border=\"1\" class=\"dataframe\">\n",
       "  <thead>\n",
       "    <tr style=\"text-align: right;\">\n",
       "      <th></th>\n",
       "      <th>canonical.bin</th>\n",
       "      <th>ctable.bin</th>\n",
       "      <th>direction.bin</th>\n",
       "      <th>edge.bin</th>\n",
       "      <th>eqtable.bin</th>\n",
       "      <th>extension</th>\n",
       "      <th>extension.bin</th>\n",
       "      <th>extensionSize.bin</th>\n",
       "      <th>info.json</th>\n",
       "      <th>mphf.bin</th>\n",
       "      <th>presence.bin</th>\n",
       "      <th>rank.bin</th>\n",
       "      <th>reflengths.bin</th>\n",
       "      <th>sample_pos.bin</th>\n",
       "      <th>seq.bin</th>\n",
       "    </tr>\n",
       "  </thead>\n",
       "  <tbody>\n",
       "    <tr>\n",
       "      <th>0</th>\n",
       "      <td>8573.257812</td>\n",
       "      <td>36621.882812</td>\n",
       "      <td>8573.257812</td>\n",
       "      <td>514.59375</td>\n",
       "      <td>12473.425781</td>\n",
       "      <td>4</td>\n",
       "      <td>68585.977539</td>\n",
       "      <td>17146.500977</td>\n",
       "      <td>0.204102</td>\n",
       "      <td>50743.902344</td>\n",
       "      <td>9684.34375</td>\n",
       "      <td>11614.03125</td>\n",
       "      <td>368.5</td>\n",
       "      <td>29999.290039</td>\n",
       "      <td>23228.054688</td>\n",
       "    </tr>\n",
       "    <tr>\n",
       "      <th>1</th>\n",
       "      <td>8768.593750</td>\n",
       "      <td>36621.882812</td>\n",
       "      <td>8768.593750</td>\n",
       "      <td>514.59375</td>\n",
       "      <td>12473.425781</td>\n",
       "      <td>5</td>\n",
       "      <td>87685.813477</td>\n",
       "      <td>17537.172852</td>\n",
       "      <td>0.205078</td>\n",
       "      <td>50743.902344</td>\n",
       "      <td>9684.34375</td>\n",
       "      <td>11614.03125</td>\n",
       "      <td>368.5</td>\n",
       "      <td>24725.258789</td>\n",
       "      <td>23228.054688</td>\n",
       "    </tr>\n",
       "    <tr>\n",
       "      <th>2</th>\n",
       "      <td>8901.250000</td>\n",
       "      <td>36621.882812</td>\n",
       "      <td>8901.250000</td>\n",
       "      <td>514.59375</td>\n",
       "      <td>12473.425781</td>\n",
       "      <td>6</td>\n",
       "      <td>106814.907227</td>\n",
       "      <td>17802.493164</td>\n",
       "      <td>0.205078</td>\n",
       "      <td>50743.902344</td>\n",
       "      <td>9684.34375</td>\n",
       "      <td>11614.03125</td>\n",
       "      <td>368.5</td>\n",
       "      <td>21143.399414</td>\n",
       "      <td>23228.054688</td>\n",
       "    </tr>\n",
       "    <tr>\n",
       "      <th>3</th>\n",
       "      <td>9003.062500</td>\n",
       "      <td>36621.882812</td>\n",
       "      <td>9003.062500</td>\n",
       "      <td>514.59375</td>\n",
       "      <td>12473.425781</td>\n",
       "      <td>7</td>\n",
       "      <td>126042.735352</td>\n",
       "      <td>18006.118164</td>\n",
       "      <td>0.205078</td>\n",
       "      <td>50743.902344</td>\n",
       "      <td>9684.34375</td>\n",
       "      <td>11614.03125</td>\n",
       "      <td>368.5</td>\n",
       "      <td>18394.524414</td>\n",
       "      <td>23228.054688</td>\n",
       "    </tr>\n",
       "    <tr>\n",
       "      <th>4</th>\n",
       "      <td>9078.000000</td>\n",
       "      <td>36621.882812</td>\n",
       "      <td>9078.000000</td>\n",
       "      <td>514.59375</td>\n",
       "      <td>12473.425781</td>\n",
       "      <td>8</td>\n",
       "      <td>145247.852539</td>\n",
       "      <td>27233.985352</td>\n",
       "      <td>0.205078</td>\n",
       "      <td>50743.902344</td>\n",
       "      <td>9684.34375</td>\n",
       "      <td>11614.03125</td>\n",
       "      <td>368.5</td>\n",
       "      <td>16371.180664</td>\n",
       "      <td>23228.054688</td>\n",
       "    </tr>\n",
       "  </tbody>\n",
       "</table>\n",
       "</div>"
      ],
      "text/plain": [
       "   canonical.bin    ctable.bin  direction.bin   edge.bin   eqtable.bin  \\\n",
       "0    8573.257812  36621.882812    8573.257812  514.59375  12473.425781   \n",
       "1    8768.593750  36621.882812    8768.593750  514.59375  12473.425781   \n",
       "2    8901.250000  36621.882812    8901.250000  514.59375  12473.425781   \n",
       "3    9003.062500  36621.882812    9003.062500  514.59375  12473.425781   \n",
       "4    9078.000000  36621.882812    9078.000000  514.59375  12473.425781   \n",
       "\n",
       "   extension  extension.bin  extensionSize.bin  info.json      mphf.bin  \\\n",
       "0          4   68585.977539       17146.500977   0.204102  50743.902344   \n",
       "1          5   87685.813477       17537.172852   0.205078  50743.902344   \n",
       "2          6  106814.907227       17802.493164   0.205078  50743.902344   \n",
       "3          7  126042.735352       18006.118164   0.205078  50743.902344   \n",
       "4          8  145247.852539       27233.985352   0.205078  50743.902344   \n",
       "\n",
       "   presence.bin     rank.bin  reflengths.bin  sample_pos.bin       seq.bin  \n",
       "0    9684.34375  11614.03125           368.5    29999.290039  23228.054688  \n",
       "1    9684.34375  11614.03125           368.5    24725.258789  23228.054688  \n",
       "2    9684.34375  11614.03125           368.5    21143.399414  23228.054688  \n",
       "3    9684.34375  11614.03125           368.5    18394.524414  23228.054688  \n",
       "4    9684.34375  11614.03125           368.5    16371.180664  23228.054688  "
      ]
     },
     "execution_count": 139,
     "metadata": {},
     "output_type": "execute_result"
    }
   ],
   "source": [
    "index_dict['txome']"
   ]
  },
  {
   "cell_type": "code",
   "execution_count": 140,
   "metadata": {},
   "outputs": [
    {
     "data": {
      "text/plain": [
       "['/mnt/scratch1/puff_benchmark_ismb/out2/k31_n_gencode.v25.pc_transcripts_fixed.puffer_sparse_idx_8',\n",
       " '/mnt/scratch1/puff_benchmark_ismb/out2/k31_n_gencode.v25.pc_transcripts_fixed.puffer_sparse_idx_4',\n",
       " '/mnt/scratch1/puff_benchmark_ismb/out2/k31_n_gencode.v25.pc_transcripts_fixed.puffer_sparse_idx_6',\n",
       " '/mnt/scratch1/puff_benchmark_ismb/out2/k31_n_gencode.v25.pc_transcripts_fixed.puffer_sparse_idx_5',\n",
       " '/mnt/scratch1/puff_benchmark_ismb/out2/k31_n_gencode.v25.pc_transcripts_fixed.puffer_sparse_idx_7',\n",
       " '/mnt/scratch1/puff_benchmark_ismb/out2/benchmarks',\n",
       " '/mnt/scratch1/puff_benchmark_ismb/out2/logs',\n",
       " '/mnt/scratch1/puff_benchmark_ismb/out2/k31_n_GRCh38.primary_assembly.genome.fixed.puffer_sparse_idx_4']"
      ]
     },
     "execution_count": 140,
     "metadata": {},
     "output_type": "execute_result"
    }
   ],
   "source": [
    "glob.glob(\"/mnt/scratch1/puff_benchmark_ismb/out2/*\")"
   ]
  },
  {
   "cell_type": "code",
   "execution_count": 143,
   "metadata": {},
   "outputs": [
    {
     "data": {
      "text/plain": [
       "[<matplotlib.lines.Line2D at 0x7f43eda76e50>]"
      ]
     },
     "execution_count": 143,
     "metadata": {},
     "output_type": "execute_result"
    },
    {
     "data": {
      "image/png": "[encoded data removed]",
      "text/plain": [
       "<matplotlib.figure.Figure at 0x7f43eda76f50>"
      ]
     },
     "metadata": {},
     "output_type": "display_data"
    }
   ],
   "source": [
    "plt.plot( 'extension', 'canonical.bin', data=index_dict['txome'], marker='o', \\\n",
    "         markerfacecolor='blue', markersize=12, color='skyblue', linewidth=4)\n",
    "plt.plot( 'extension', 'direction.bin', data=index_dict['txome'], marker='o', \\\n",
    "         markerfacecolor='blue', markersize=12, color='skyblue', linewidth=4)\n",
    "plt.plot( 'extension', 'extension.bin', data=index_dict['txome'], marker='o', \\\n",
    "         markerfacecolor='blue', markersize=12, color='skyblue', linewidth=4)\n"
   ]
  },
  {
   "cell_type": "code",
   "execution_count": 174,
   "metadata": {},
   "outputs": [
    {
     "ename": "TypeError",
     "evalue": "legend() takes at least 3 arguments (1 given)",
     "output_type": "error",
     "traceback": [
      "\u001b[0;31m---------------------------------------------------------------------------\u001b[0m",
      "\u001b[0;31mTypeError\u001b[0m                                 Traceback (most recent call last)",
      "\u001b[0;32m<ipython-input-174-6f77b856be10>\u001b[0m in \u001b[0;36m<module>\u001b[0;34m()\u001b[0m\n\u001b[1;32m     15\u001b[0m \u001b[0max\u001b[0m\u001b[0;34m.\u001b[0m\u001b[0mlegend_\u001b[0m\u001b[0;34m.\u001b[0m\u001b[0mremove\u001b[0m\u001b[0;34m(\u001b[0m\u001b[0;34m)\u001b[0m\u001b[0;34m\u001b[0m\u001b[0m\n\u001b[1;32m     16\u001b[0m \u001b[0max2\u001b[0m\u001b[0;34m.\u001b[0m\u001b[0mlegend_\u001b[0m\u001b[0;34m.\u001b[0m\u001b[0mremove\u001b[0m\u001b[0;34m(\u001b[0m\u001b[0;34m)\u001b[0m\u001b[0;34m\u001b[0m\u001b[0m\n\u001b[0;32m---> 17\u001b[0;31m \u001b[0mf\u001b[0m\u001b[0;34m.\u001b[0m\u001b[0mlegend\u001b[0m\u001b[0;34m(\u001b[0m\u001b[0;34m)\u001b[0m\u001b[0;34m\u001b[0m\u001b[0m\n\u001b[0m\u001b[1;32m     18\u001b[0m \u001b[0;31m# Put a legend to the right of the current axis\u001b[0m\u001b[0;34m\u001b[0m\u001b[0;34m\u001b[0m\u001b[0m\n\u001b[1;32m     19\u001b[0m \u001b[0;31m#ax2.legend(loc='center left', bbox_to_anchor=(1, 0.5))\u001b[0m\u001b[0;34m\u001b[0m\u001b[0;34m\u001b[0m\u001b[0m\n",
      "\u001b[0;31mTypeError\u001b[0m: legend() takes at least 3 arguments (1 given)"
     ]
    },
    {
     "data": {
      "image/png": "[encoded data removed]",
      "text/plain": [
       "<matplotlib.figure.Figure at 0x7f430df58790>"
      ]
     },
     "metadata": {},
     "output_type": "display_data"
    }
   ],
   "source": [
    "f, (ax, ax2) = plt.subplots(2, 1, sharex=True)\n",
    "index_dict['txome'].plot(x=\"extension\", y=[\"canonical.bin\", \"direction.bin\", \\\n",
    "                                          \"extension.bin\",\"extensionSize.bin\",\"sample_pos.bin\"],\\\n",
    "                         kind=\"bar\",alpha=0.5,ax=ax)\n",
    "index_dict['txome'].plot(x=\"extension\", y=[\"canonical.bin\", \"direction.bin\", \\\n",
    "                                          \"extension.bin\",\"extensionSize.bin\",\"sample_pos.bin\"],\\\n",
    "                         kind=\"bar\",alpha=0.5,ax=ax2)\n",
    "ax.set_ylim(60000, 160000)  # outliers only\n",
    "ax2.set_ylim(0, 40000)  # most of the data\n",
    "ax.spines['bottom'].set_visible(False)\n",
    "ax2.spines['top'].set_visible(False)\n",
    "# Shrink current axis by 20%\n",
    "box = ax.get_position()\n",
    "#ax2.set_position([box.x0, box.y0, box.width * 0.8, box.height])\n",
    "ax.tick_params(axis=u'both', which=u'both',length=0)\n",
    "# Put a legend to the right of the current axis\n",
    "#ax.legend(loc='center left', bbox_to_anchor=(1, 0.5))\n",
    "ax2.tick_params(axis=u'both', which=u'both',length=0)\n",
    "ax.legend_.remove()\n",
    "ax2.legend_.remove()\n",
    "f.legend()\n",
    "# Put a legend to the right of the current axis\n",
    "#ax2.legend(loc='center left', bbox_to_anchor=(1, 0.5))"
   ]
  },
  {
   "cell_type": "code",
   "execution_count": 158,
   "metadata": {},
   "outputs": [
    {
     "data": {
      "text/plain": [
       "<matplotlib.legend.Legend at 0x7f430f0fbc10>"
      ]
     },
     "execution_count": 158,
     "metadata": {},
     "output_type": "execute_result"
    },
    {
     "data": {
      "image/png": "[encoded data removed]",
      "text/plain": [
       "<matplotlib.figure.Figure at 0x7f430eb809d0>"
      ]
     },
     "metadata": {},
     "output_type": "display_data"
    }
   ],
   "source": [
    "#f, (ax, ax2) = plt.subplots(2, 1, sharex=True)\n",
    "ax = index_dict['txome'].plot(x=\"extension\", y=[\"canonical.bin\", \"direction.bin\", \\\n",
    "                                          \"extension.bin\",\"extensionSize.bin\",\"sample_pos.bin\"],\\\n",
    "                              kind=\"bar\",alpha=0.5,stacked=True)\n",
    "# Shrink current axis by 20%\n",
    "box = ax.get_position()\n",
    "ax.set_position([box.x0, box.y0, box.width * 0.8, box.height])\n",
    "ax.tick_params(axis=u'both', which=u'both',length=0)\n",
    "# Put a legend to the right of the current axis\n",
    "ax.legend(loc='center left', bbox_to_anchor=(1, 0.5))"
   ]
  },
  {
   "cell_type": "code",
   "execution_count": 155,
   "metadata": {},
   "outputs": [
    {
     "data": {
      "image/png": "[encoded data removed]",
      "text/plain": [
       "<matplotlib.figure.Figure at 0x7f430ee01690>"
      ]
     },
     "metadata": {},
     "output_type": "display_data"
    }
   ],
   "source": [
    "pts = np.array([\n",
    "    0.015, 0.166, 0.133, 0.159, 0.041, 0.024, 0.195, 0.039, 0.161, 0.018,\n",
    "    0.143, 0.056, 0.125, 0.096, 0.094, 0.051, 0.043, 0.021, 0.138, 0.075,\n",
    "    0.109, 0.195, 0.050, 0.074, 0.079, 0.155, 0.020, 0.010, 0.061, 0.008])\n",
    "\n",
    "# Now let's make two outlier points which are far away from everything.\n",
    "pts[[3, 14]] += .8\n",
    "\n",
    "# If we were to simply plot pts, we'd lose most of the interesting\n",
    "# details due to the outliers. So let's 'break' or 'cut-out' the y-axis\n",
    "# into two portions - use the top (ax) for the outliers, and the bottom\n",
    "# (ax2) for the details of the majority of our data\n",
    "f, (ax, ax2) = plt.subplots(2, 1, sharex=True)\n",
    "\n",
    "# plot the same data on both axes\n",
    "ax.plot(pts)\n",
    "ax2.plot(pts)\n",
    "\n",
    "# zoom-in / limit the view to different portions of the data\n",
    "ax.set_ylim(.78, 1.)  # outliers only\n",
    "ax2.set_ylim(0, .22)  # most of the data\n",
    "\n",
    "# hide the spines between ax and ax2\n",
    "ax.spines['bottom'].set_visible(False)\n",
    "ax2.spines['top'].set_visible(False)\n",
    "ax.xaxis.tick_top()\n",
    "ax.tick_params(labeltop='off')  # don't put tick labels at the top\n",
    "ax2.xaxis.tick_bottom()"
   ]
  },
  {
   "cell_type": "code",
   "execution_count": null,
   "metadata": {},
   "outputs": [],
   "source": []
  }
 ],
 "metadata": {
  "kernelspec": {
   "display_name": "Python 2",
   "language": "python",
   "name": "python2"
  },
  "language_info": {
   "codemirror_mode": {
    "name": "ipython",
    "version": 2
   },
   "file_extension": ".py",
   "mimetype": "text/x-python",
   "name": "python",
   "nbconvert_exporter": "python",
   "pygments_lexer": "ipython2",
   "version": "2.7.13"
  }
 },
 "nbformat": 4,
 "nbformat_minor": 1
}
